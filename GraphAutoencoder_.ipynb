{
  "nbformat": 4,
  "nbformat_minor": 0,
  "metadata": {
    "colab": {
      "name": "GraphAutoencoder .ipynb",
      "provenance": [],
      "collapsed_sections": []
    },
    "kernelspec": {
      "name": "python3",
      "display_name": "Python 3"
    },
    "language_info": {
      "name": "python"
    },
    "accelerator": "GPU"
  },
  "cells": [
    {
      "cell_type": "code",
      "execution_count": 1,
      "metadata": {
        "id": "URiQndrL5enj"
      },
      "outputs": [],
      "source": [
        "import torch\n",
        "import torch.nn\n",
        "import torch.nn.functional as F\n",
        "\n",
        "import numpy\n",
        "import matplotlib.pyplot as plt"
      ]
    },
    {
      "cell_type": "code",
      "source": [
        "import torch\n",
        "\n",
        "def format_pytorch_version(version):\n",
        "  return version.split('+')[0]\n",
        "\n",
        "TORCH_version = torch.__version__\n",
        "TORCH = format_pytorch_version(TORCH_version)\n",
        "\n",
        "def format_cuda_version(version):\n",
        "  return 'cu' + version.replace('.', '')\n",
        "\n",
        "CUDA_version = torch.version.cuda\n",
        "CUDA = format_cuda_version(CUDA_version)\n",
        "\n",
        "!pip install torch-scatter     -f https://pytorch-geometric.com/whl/torch-{TORCH}+{CUDA}.html\n",
        "!pip install torch-sparse      -f https://pytorch-geometric.com/whl/torch-{TORCH}+{CUDA}.html\n",
        "!pip install torch-cluster     -f https://pytorch-geometric.com/whl/torch-{TORCH}+{CUDA}.html\n",
        "!pip install torch-spline-conv -f https://pytorch-geometric.com/whl/torch-{TORCH}+{CUDA}.html\n",
        "!pip install torch-geometric "
      ],
      "metadata": {
        "colab": {
          "base_uri": "https://localhost:8080/"
        },
        "id": "GrGzsj3X5qww",
        "outputId": "af7c2c93-6db8-4133-fc7b-3bf9c70749be"
      },
      "execution_count": 2,
      "outputs": [
        {
          "output_type": "stream",
          "name": "stdout",
          "text": [
            "Looking in links: https://pytorch-geometric.com/whl/torch-1.10.0+cu111.html\n",
            "Collecting torch-scatter\n",
            "  Downloading https://data.pyg.org/whl/torch-1.10.0%2Bcu113/torch_scatter-2.0.9-cp37-cp37m-linux_x86_64.whl (7.9 MB)\n",
            "\u001b[K     |████████████████████████████████| 7.9 MB 5.5 MB/s \n",
            "\u001b[?25hInstalling collected packages: torch-scatter\n",
            "Successfully installed torch-scatter-2.0.9\n",
            "Looking in links: https://pytorch-geometric.com/whl/torch-1.10.0+cu111.html\n",
            "Collecting torch-sparse\n",
            "  Downloading https://data.pyg.org/whl/torch-1.10.0%2Bcu113/torch_sparse-0.6.12-cp37-cp37m-linux_x86_64.whl (3.5 MB)\n",
            "\u001b[K     |████████████████████████████████| 3.5 MB 5.1 MB/s \n",
            "\u001b[?25hRequirement already satisfied: scipy in /usr/local/lib/python3.7/dist-packages (from torch-sparse) (1.4.1)\n",
            "Requirement already satisfied: numpy>=1.13.3 in /usr/local/lib/python3.7/dist-packages (from scipy->torch-sparse) (1.21.5)\n",
            "Installing collected packages: torch-sparse\n",
            "Successfully installed torch-sparse-0.6.12\n",
            "Looking in links: https://pytorch-geometric.com/whl/torch-1.10.0+cu111.html\n",
            "Collecting torch-cluster\n",
            "  Downloading https://data.pyg.org/whl/torch-1.10.0%2Bcu113/torch_cluster-1.5.9-cp37-cp37m-linux_x86_64.whl (2.3 MB)\n",
            "\u001b[K     |████████████████████████████████| 2.3 MB 5.1 MB/s \n",
            "\u001b[?25hInstalling collected packages: torch-cluster\n",
            "Successfully installed torch-cluster-1.5.9\n",
            "Looking in links: https://pytorch-geometric.com/whl/torch-1.10.0+cu111.html\n",
            "Collecting torch-spline-conv\n",
            "  Downloading https://data.pyg.org/whl/torch-1.10.0%2Bcu113/torch_spline_conv-1.2.1-cp37-cp37m-linux_x86_64.whl (747 kB)\n",
            "\u001b[K     |████████████████████████████████| 747 kB 5.2 MB/s \n",
            "\u001b[?25hInstalling collected packages: torch-spline-conv\n",
            "Successfully installed torch-spline-conv-1.2.1\n",
            "Collecting torch-geometric\n",
            "  Downloading torch_geometric-2.0.3.tar.gz (370 kB)\n",
            "\u001b[K     |████████████████████████████████| 370 kB 5.2 MB/s \n",
            "\u001b[?25hRequirement already satisfied: numpy in /usr/local/lib/python3.7/dist-packages (from torch-geometric) (1.21.5)\n",
            "Requirement already satisfied: tqdm in /usr/local/lib/python3.7/dist-packages (from torch-geometric) (4.62.3)\n",
            "Requirement already satisfied: scipy in /usr/local/lib/python3.7/dist-packages (from torch-geometric) (1.4.1)\n",
            "Requirement already satisfied: networkx in /usr/local/lib/python3.7/dist-packages (from torch-geometric) (2.6.3)\n",
            "Requirement already satisfied: scikit-learn in /usr/local/lib/python3.7/dist-packages (from torch-geometric) (1.0.2)\n",
            "Requirement already satisfied: requests in /usr/local/lib/python3.7/dist-packages (from torch-geometric) (2.23.0)\n",
            "Requirement already satisfied: pandas in /usr/local/lib/python3.7/dist-packages (from torch-geometric) (1.3.5)\n",
            "Collecting rdflib\n",
            "  Downloading rdflib-6.1.1-py3-none-any.whl (482 kB)\n",
            "\u001b[K     |████████████████████████████████| 482 kB 41.8 MB/s \n",
            "\u001b[?25hRequirement already satisfied: googledrivedownloader in /usr/local/lib/python3.7/dist-packages (from torch-geometric) (0.4)\n",
            "Requirement already satisfied: jinja2 in /usr/local/lib/python3.7/dist-packages (from torch-geometric) (2.11.3)\n",
            "Requirement already satisfied: pyparsing in /usr/local/lib/python3.7/dist-packages (from torch-geometric) (3.0.7)\n",
            "Collecting yacs\n",
            "  Downloading yacs-0.1.8-py3-none-any.whl (14 kB)\n",
            "Requirement already satisfied: PyYAML in /usr/local/lib/python3.7/dist-packages (from torch-geometric) (3.13)\n",
            "Requirement already satisfied: MarkupSafe>=0.23 in /usr/local/lib/python3.7/dist-packages (from jinja2->torch-geometric) (2.0.1)\n",
            "Requirement already satisfied: python-dateutil>=2.7.3 in /usr/local/lib/python3.7/dist-packages (from pandas->torch-geometric) (2.8.2)\n",
            "Requirement already satisfied: pytz>=2017.3 in /usr/local/lib/python3.7/dist-packages (from pandas->torch-geometric) (2018.9)\n",
            "Requirement already satisfied: six>=1.5 in /usr/local/lib/python3.7/dist-packages (from python-dateutil>=2.7.3->pandas->torch-geometric) (1.15.0)\n",
            "Requirement already satisfied: setuptools in /usr/local/lib/python3.7/dist-packages (from rdflib->torch-geometric) (57.4.0)\n",
            "Collecting isodate\n",
            "  Downloading isodate-0.6.1-py2.py3-none-any.whl (41 kB)\n",
            "\u001b[K     |████████████████████████████████| 41 kB 555 kB/s \n",
            "\u001b[?25hRequirement already satisfied: importlib-metadata in /usr/local/lib/python3.7/dist-packages (from rdflib->torch-geometric) (4.11.0)\n",
            "Requirement already satisfied: typing-extensions>=3.6.4 in /usr/local/lib/python3.7/dist-packages (from importlib-metadata->rdflib->torch-geometric) (3.10.0.2)\n",
            "Requirement already satisfied: zipp>=0.5 in /usr/local/lib/python3.7/dist-packages (from importlib-metadata->rdflib->torch-geometric) (3.7.0)\n",
            "Requirement already satisfied: urllib3!=1.25.0,!=1.25.1,<1.26,>=1.21.1 in /usr/local/lib/python3.7/dist-packages (from requests->torch-geometric) (1.24.3)\n",
            "Requirement already satisfied: chardet<4,>=3.0.2 in /usr/local/lib/python3.7/dist-packages (from requests->torch-geometric) (3.0.4)\n",
            "Requirement already satisfied: idna<3,>=2.5 in /usr/local/lib/python3.7/dist-packages (from requests->torch-geometric) (2.10)\n",
            "Requirement already satisfied: certifi>=2017.4.17 in /usr/local/lib/python3.7/dist-packages (from requests->torch-geometric) (2021.10.8)\n",
            "Requirement already satisfied: joblib>=0.11 in /usr/local/lib/python3.7/dist-packages (from scikit-learn->torch-geometric) (1.1.0)\n",
            "Requirement already satisfied: threadpoolctl>=2.0.0 in /usr/local/lib/python3.7/dist-packages (from scikit-learn->torch-geometric) (3.1.0)\n",
            "Building wheels for collected packages: torch-geometric\n",
            "  Building wheel for torch-geometric (setup.py) ... \u001b[?25l\u001b[?25hdone\n",
            "  Created wheel for torch-geometric: filename=torch_geometric-2.0.3-py3-none-any.whl size=581968 sha256=fcaf514e581bdf98c3e00782f360e175abf638969a5ae8a86b4ca97bb58eb209\n",
            "  Stored in directory: /root/.cache/pip/wheels/c3/2a/58/87ce0508964d4def1aafb92750c4f3ac77038efd1b9a89dcf5\n",
            "Successfully built torch-geometric\n",
            "Installing collected packages: isodate, yacs, rdflib, torch-geometric\n",
            "Successfully installed isodate-0.6.1 rdflib-6.1.1 torch-geometric-2.0.3 yacs-0.1.8\n"
          ]
        }
      ]
    },
    {
      "cell_type": "code",
      "source": [
        "import torch_geometric \n",
        "from torch_geometric.datasets import Planetoid\n",
        "import torch_geometric.transforms as T\n",
        "from torch_geometric.nn import GCNConv, VGAE, GAE\n",
        "from torch_geometric.utils import train_test_split_edges "
      ],
      "metadata": {
        "id": "Ey3RsPq3M-1w"
      },
      "execution_count": 3,
      "outputs": []
    },
    {
      "cell_type": "code",
      "source": [
        "dataset = Planetoid(\"\\..\", \"CiteSeer\", transform=T.NormalizeFeatures())\n",
        "dataset.data"
      ],
      "metadata": {
        "colab": {
          "base_uri": "https://localhost:8080/"
        },
        "id": "82ht4Z_sNcmP",
        "outputId": "a6bc2e1b-7568-4984-8500-90472a4e9041"
      },
      "execution_count": 4,
      "outputs": [
        {
          "output_type": "stream",
          "name": "stderr",
          "text": [
            "Downloading https://github.com/kimiyoung/planetoid/raw/master/data/ind.citeseer.x\n",
            "Downloading https://github.com/kimiyoung/planetoid/raw/master/data/ind.citeseer.tx\n",
            "Downloading https://github.com/kimiyoung/planetoid/raw/master/data/ind.citeseer.allx\n",
            "Downloading https://github.com/kimiyoung/planetoid/raw/master/data/ind.citeseer.y\n",
            "Downloading https://github.com/kimiyoung/planetoid/raw/master/data/ind.citeseer.ty\n",
            "Downloading https://github.com/kimiyoung/planetoid/raw/master/data/ind.citeseer.ally\n",
            "Downloading https://github.com/kimiyoung/planetoid/raw/master/data/ind.citeseer.graph\n",
            "Downloading https://github.com/kimiyoung/planetoid/raw/master/data/ind.citeseer.test.index\n",
            "Processing...\n",
            "Done!\n"
          ]
        },
        {
          "output_type": "execute_result",
          "data": {
            "text/plain": [
              "Data(x=[3327, 3703], edge_index=[2, 9104], y=[3327], train_mask=[3327], val_mask=[3327], test_mask=[3327])"
            ]
          },
          "metadata": {},
          "execution_count": 4
        }
      ]
    },
    {
      "cell_type": "code",
      "source": [
        "data = dataset[0]\n",
        "data.train_mask = data.val_mask = data.test_mask = None"
      ],
      "metadata": {
        "id": "RpDD0DhfONri"
      },
      "execution_count": 5,
      "outputs": []
    },
    {
      "cell_type": "code",
      "source": [
        "type(dataset)"
      ],
      "metadata": {
        "colab": {
          "base_uri": "https://localhost:8080/"
        },
        "id": "ZnfZfsyWB62E",
        "outputId": "6bd6d105-5be8-4e44-f193-4c5c995714d8"
      },
      "execution_count": 6,
      "outputs": [
        {
          "output_type": "execute_result",
          "data": {
            "text/plain": [
              "torch_geometric.datasets.planetoid.Planetoid"
            ]
          },
          "metadata": {},
          "execution_count": 6
        }
      ]
    },
    {
      "cell_type": "code",
      "source": [
        "data = train_test_split_edges(data)"
      ],
      "metadata": {
        "colab": {
          "base_uri": "https://localhost:8080/"
        },
        "id": "lTC67DcMcmbA",
        "outputId": "bc361284-2175-425a-ff90-1d10f10ba526"
      },
      "execution_count": 7,
      "outputs": [
        {
          "output_type": "stream",
          "name": "stderr",
          "text": [
            "/usr/local/lib/python3.7/dist-packages/torch_geometric/deprecation.py:13: UserWarning: 'train_test_split_edges' is deprecated, use 'transforms.RandomLinkSplit' instead\n",
            "  warnings.warn(out)\n"
          ]
        }
      ]
    },
    {
      "cell_type": "code",
      "source": [
        "data\n",
        "#edge index = adjacency matrix, test_neg_edges -> edges in test set that are not in the graph, test_pos_edge_index -> edges in test set that are in graph, x -> feature matrix, y -> labels"
      ],
      "metadata": {
        "colab": {
          "base_uri": "https://localhost:8080/"
        },
        "id": "xYUbQKqxu6md",
        "outputId": "7c887ab1-9fe3-4eaa-deeb-76a488474e06"
      },
      "execution_count": 8,
      "outputs": [
        {
          "output_type": "execute_result",
          "data": {
            "text/plain": [
              "Data(x=[3327, 3703], y=[3327], val_pos_edge_index=[2, 227], test_pos_edge_index=[2, 455], train_pos_edge_index=[2, 7740], train_neg_adj_mask=[3327, 3327], val_neg_edge_index=[2, 227], test_neg_edge_index=[2, 455])"
            ]
          },
          "metadata": {},
          "execution_count": 8
        }
      ]
    },
    {
      "cell_type": "code",
      "source": [
        "#Define encoder\n",
        "#in_channels -> number of features \n",
        "#out_channels -> 2 * out_channels --> because we have 2 convolutional layers. We go from the input features to double of output features and then in 2nd layer we go from double of output features we go to out features (size of embedding we want to produce)\n"
      ],
      "metadata": {
        "id": "56tIGWQjvboM"
      },
      "execution_count": 9,
      "outputs": []
    },
    {
      "cell_type": "code",
      "source": [
        "class GCNEncoder(torch.nn.Module):\n",
        "    def __init__(self, in_channels, out_channels):\n",
        "        super(GCNEncoder, self).__init__()\n",
        "        self.conv1 = GCNConv(in_channels, 2 * out_channels, cached=True) # cached only for transductive learning\n",
        "        self.conv2 = GCNConv(2 * out_channels, out_channels, cached=True) # cached only for transductive learning\n",
        "\n",
        "    def forward(self, x, edge_index):\n",
        "        x = self.conv1(x, edge_index).relu()\n",
        "        return self.conv2(x, edge_index)\n"
      ],
      "metadata": {
        "id": "aqC48MM3whcG"
      },
      "execution_count": 10,
      "outputs": []
    },
    {
      "cell_type": "code",
      "source": [
        "#Define the autoencoder"
      ],
      "metadata": {
        "id": "rFSjJ-H-dm0I"
      },
      "execution_count": 11,
      "outputs": []
    },
    {
      "cell_type": "code",
      "source": [
        "#Parameters\n",
        "out_channels = 2 #embedding in 2 dimensions\n",
        "num_features = dataset.num_features\n",
        "epochs = 100\n",
        "\n",
        "#Model\n",
        "model = GAE(GCNEncoder(num_features, out_channels))\n",
        "\n",
        "#Move to GPU, if available\n",
        "device = torch.device('cuda' if torch.cuda.is_available() else 'cpu')\n",
        "model = model.to(device)\n",
        "x = data.x.to(device)\n",
        "train_pos_edge_index = data.train_pos_edge_index.to(device)\n",
        "\n",
        "#Initialize the optimizer\n",
        "optimizer =torch.optim.Adam(model.parameters(), lr = 0.01)\n"
      ],
      "metadata": {
        "id": "8p0yi2LVdqsn"
      },
      "execution_count": 14,
      "outputs": []
    },
    {
      "cell_type": "code",
      "source": [
        "model"
      ],
      "metadata": {
        "colab": {
          "base_uri": "https://localhost:8080/"
        },
        "id": "FtY4uP2rtU9u",
        "outputId": "b7b8ac69-9e3a-4a84-f101-dbd3b77bdb05"
      },
      "execution_count": 15,
      "outputs": [
        {
          "output_type": "execute_result",
          "data": {
            "text/plain": [
              "GAE(\n",
              "  (encoder): GCNEncoder(\n",
              "    (conv1): GCNConv(3703, 4)\n",
              "    (conv2): GCNConv(4, 2)\n",
              "  )\n",
              "  (decoder): InnerProductDecoder()\n",
              ")"
            ]
          },
          "metadata": {},
          "execution_count": 15
        }
      ]
    },
    {
      "cell_type": "code",
      "source": [
        "dir(model)"
      ],
      "metadata": {
        "colab": {
          "base_uri": "https://localhost:8080/"
        },
        "id": "_elOWpXIupq3",
        "outputId": "e95ad488-f741-4f62-d375-bc12ea3ccdc1"
      },
      "execution_count": 16,
      "outputs": [
        {
          "output_type": "execute_result",
          "data": {
            "text/plain": [
              "['T_destination',\n",
              " '__annotations__',\n",
              " '__call__',\n",
              " '__class__',\n",
              " '__delattr__',\n",
              " '__dict__',\n",
              " '__dir__',\n",
              " '__doc__',\n",
              " '__eq__',\n",
              " '__format__',\n",
              " '__ge__',\n",
              " '__getattr__',\n",
              " '__getattribute__',\n",
              " '__gt__',\n",
              " '__hash__',\n",
              " '__init__',\n",
              " '__init_subclass__',\n",
              " '__le__',\n",
              " '__lt__',\n",
              " '__module__',\n",
              " '__ne__',\n",
              " '__new__',\n",
              " '__reduce__',\n",
              " '__reduce_ex__',\n",
              " '__repr__',\n",
              " '__setattr__',\n",
              " '__setstate__',\n",
              " '__sizeof__',\n",
              " '__str__',\n",
              " '__subclasshook__',\n",
              " '__weakref__',\n",
              " '_apply',\n",
              " '_backward_hooks',\n",
              " '_buffers',\n",
              " '_call_impl',\n",
              " '_forward_hooks',\n",
              " '_forward_pre_hooks',\n",
              " '_get_backward_hooks',\n",
              " '_get_name',\n",
              " '_is_full_backward_hook',\n",
              " '_load_from_state_dict',\n",
              " '_load_state_dict_pre_hooks',\n",
              " '_maybe_warn_non_full_backward_hook',\n",
              " '_modules',\n",
              " '_named_members',\n",
              " '_non_persistent_buffers_set',\n",
              " '_parameters',\n",
              " '_register_load_state_dict_pre_hook',\n",
              " '_register_state_dict_hook',\n",
              " '_replicate_for_data_parallel',\n",
              " '_save_to_state_dict',\n",
              " '_slow_forward',\n",
              " '_state_dict_hooks',\n",
              " '_version',\n",
              " 'add_module',\n",
              " 'apply',\n",
              " 'bfloat16',\n",
              " 'buffers',\n",
              " 'children',\n",
              " 'cpu',\n",
              " 'cuda',\n",
              " 'decode',\n",
              " 'decoder',\n",
              " 'double',\n",
              " 'dump_patches',\n",
              " 'encode',\n",
              " 'encoder',\n",
              " 'eval',\n",
              " 'extra_repr',\n",
              " 'float',\n",
              " 'forward',\n",
              " 'get_buffer',\n",
              " 'get_extra_state',\n",
              " 'get_parameter',\n",
              " 'get_submodule',\n",
              " 'half',\n",
              " 'load_state_dict',\n",
              " 'modules',\n",
              " 'named_buffers',\n",
              " 'named_children',\n",
              " 'named_modules',\n",
              " 'named_parameters',\n",
              " 'parameters',\n",
              " 'recon_loss',\n",
              " 'register_backward_hook',\n",
              " 'register_buffer',\n",
              " 'register_forward_hook',\n",
              " 'register_forward_pre_hook',\n",
              " 'register_full_backward_hook',\n",
              " 'register_parameter',\n",
              " 'requires_grad_',\n",
              " 'reset_parameters',\n",
              " 'set_extra_state',\n",
              " 'share_memory',\n",
              " 'state_dict',\n",
              " 'test',\n",
              " 'to',\n",
              " 'to_empty',\n",
              " 'train',\n",
              " 'training',\n",
              " 'type',\n",
              " 'xpu',\n",
              " 'zero_grad']"
            ]
          },
          "metadata": {},
          "execution_count": 16
        }
      ]
    },
    {
      "cell_type": "code",
      "source": [
        "def train():\n",
        "    model.train()\n",
        "    optimizer.zero_grad()\n",
        "    z = model.encode(x, train_pos_edge_index)\n",
        "    loss = model.recon_loss(z, train_pos_edge_index)\n",
        "    #if args.variational:\n",
        "    #   loss = loss + (1 / data.num_nodes) * model.kl_loss()\n",
        "    loss.backward()\n",
        "    optimizer.step()\n",
        "    return float(loss)\n",
        "\n",
        "\n",
        "def test(pos_edge_index, neg_edge_index):\n",
        "    model.eval()\n",
        "    with torch.no_grad():\n",
        "        z = model.encode(x, train_pos_edge_index)\n",
        "    return model.test(z, pos_edge_index, neg_edge_index)"
      ],
      "metadata": {
        "id": "cREhQP8FH6hu"
      },
      "execution_count": 21,
      "outputs": []
    },
    {
      "cell_type": "code",
      "source": [
        "for epoch in range(1, epochs + 1):\n",
        "    loss = train()\n",
        "\n",
        "    auc, ap = test(data.test_pos_edge_index, data.test_neg_edge_index)\n",
        "    print('Epoch: {:03d}, AUC: {:.4f}, AP: {:.4f}'.format(epoch, auc, ap))"
      ],
      "metadata": {
        "colab": {
          "base_uri": "https://localhost:8080/"
        },
        "id": "2OP5ue2Fw3So",
        "outputId": "7accdf95-3263-4b92-e201-75dd0b8f0a8c"
      },
      "execution_count": 24,
      "outputs": [
        {
          "output_type": "stream",
          "name": "stdout",
          "text": [
            "Epoch: 001, AUC: 0.8129, AP: 0.8204\n",
            "Epoch: 002, AUC: 0.8140, AP: 0.8217\n",
            "Epoch: 003, AUC: 0.8154, AP: 0.8229\n",
            "Epoch: 004, AUC: 0.8167, AP: 0.8243\n",
            "Epoch: 005, AUC: 0.8181, AP: 0.8257\n",
            "Epoch: 006, AUC: 0.8199, AP: 0.8275\n",
            "Epoch: 007, AUC: 0.8212, AP: 0.8289\n",
            "Epoch: 008, AUC: 0.8224, AP: 0.8302\n",
            "Epoch: 009, AUC: 0.8238, AP: 0.8318\n",
            "Epoch: 010, AUC: 0.8252, AP: 0.8337\n",
            "Epoch: 011, AUC: 0.8267, AP: 0.8354\n",
            "Epoch: 012, AUC: 0.8281, AP: 0.8370\n",
            "Epoch: 013, AUC: 0.8295, AP: 0.8383\n",
            "Epoch: 014, AUC: 0.8307, AP: 0.8395\n",
            "Epoch: 015, AUC: 0.8317, AP: 0.8403\n",
            "Epoch: 016, AUC: 0.8328, AP: 0.8412\n",
            "Epoch: 017, AUC: 0.8340, AP: 0.8424\n",
            "Epoch: 018, AUC: 0.8352, AP: 0.8434\n",
            "Epoch: 019, AUC: 0.8362, AP: 0.8442\n",
            "Epoch: 020, AUC: 0.8372, AP: 0.8449\n",
            "Epoch: 021, AUC: 0.8382, AP: 0.8458\n",
            "Epoch: 022, AUC: 0.8387, AP: 0.8461\n",
            "Epoch: 023, AUC: 0.8396, AP: 0.8468\n",
            "Epoch: 024, AUC: 0.8403, AP: 0.8473\n",
            "Epoch: 025, AUC: 0.8410, AP: 0.8479\n",
            "Epoch: 026, AUC: 0.8417, AP: 0.8484\n",
            "Epoch: 027, AUC: 0.8424, AP: 0.8488\n",
            "Epoch: 028, AUC: 0.8429, AP: 0.8492\n",
            "Epoch: 029, AUC: 0.8433, AP: 0.8496\n",
            "Epoch: 030, AUC: 0.8436, AP: 0.8496\n",
            "Epoch: 031, AUC: 0.8439, AP: 0.8499\n",
            "Epoch: 032, AUC: 0.8445, AP: 0.8503\n",
            "Epoch: 033, AUC: 0.8451, AP: 0.8507\n",
            "Epoch: 034, AUC: 0.8453, AP: 0.8507\n",
            "Epoch: 035, AUC: 0.8454, AP: 0.8508\n",
            "Epoch: 036, AUC: 0.8452, AP: 0.8506\n",
            "Epoch: 037, AUC: 0.8453, AP: 0.8505\n",
            "Epoch: 038, AUC: 0.8453, AP: 0.8506\n",
            "Epoch: 039, AUC: 0.8460, AP: 0.8511\n",
            "Epoch: 040, AUC: 0.8463, AP: 0.8512\n",
            "Epoch: 041, AUC: 0.8464, AP: 0.8512\n",
            "Epoch: 042, AUC: 0.8464, AP: 0.8513\n",
            "Epoch: 043, AUC: 0.8461, AP: 0.8512\n",
            "Epoch: 044, AUC: 0.8460, AP: 0.8511\n",
            "Epoch: 045, AUC: 0.8462, AP: 0.8514\n",
            "Epoch: 046, AUC: 0.8462, AP: 0.8513\n",
            "Epoch: 047, AUC: 0.8463, AP: 0.8513\n",
            "Epoch: 048, AUC: 0.8463, AP: 0.8513\n",
            "Epoch: 049, AUC: 0.8463, AP: 0.8513\n",
            "Epoch: 050, AUC: 0.8461, AP: 0.8512\n",
            "Epoch: 051, AUC: 0.8461, AP: 0.8513\n",
            "Epoch: 052, AUC: 0.8462, AP: 0.8514\n",
            "Epoch: 053, AUC: 0.8463, AP: 0.8516\n",
            "Epoch: 054, AUC: 0.8462, AP: 0.8515\n",
            "Epoch: 055, AUC: 0.8462, AP: 0.8516\n",
            "Epoch: 056, AUC: 0.8461, AP: 0.8516\n",
            "Epoch: 057, AUC: 0.8457, AP: 0.8511\n",
            "Epoch: 058, AUC: 0.8457, AP: 0.8511\n",
            "Epoch: 059, AUC: 0.8457, AP: 0.8509\n",
            "Epoch: 060, AUC: 0.8458, AP: 0.8509\n",
            "Epoch: 061, AUC: 0.8459, AP: 0.8508\n",
            "Epoch: 062, AUC: 0.8460, AP: 0.8508\n",
            "Epoch: 063, AUC: 0.8459, AP: 0.8507\n",
            "Epoch: 064, AUC: 0.8459, AP: 0.8509\n",
            "Epoch: 065, AUC: 0.8460, AP: 0.8508\n",
            "Epoch: 066, AUC: 0.8459, AP: 0.8507\n",
            "Epoch: 067, AUC: 0.8460, AP: 0.8506\n",
            "Epoch: 068, AUC: 0.8462, AP: 0.8506\n",
            "Epoch: 069, AUC: 0.8463, AP: 0.8508\n",
            "Epoch: 070, AUC: 0.8463, AP: 0.8507\n",
            "Epoch: 071, AUC: 0.8462, AP: 0.8505\n",
            "Epoch: 072, AUC: 0.8459, AP: 0.8501\n",
            "Epoch: 073, AUC: 0.8458, AP: 0.8500\n",
            "Epoch: 074, AUC: 0.8463, AP: 0.8504\n",
            "Epoch: 075, AUC: 0.8466, AP: 0.8505\n",
            "Epoch: 076, AUC: 0.8470, AP: 0.8509\n",
            "Epoch: 077, AUC: 0.8471, AP: 0.8508\n",
            "Epoch: 078, AUC: 0.8468, AP: 0.8504\n",
            "Epoch: 079, AUC: 0.8459, AP: 0.8495\n",
            "Epoch: 080, AUC: 0.8456, AP: 0.8493\n",
            "Epoch: 081, AUC: 0.8460, AP: 0.8496\n",
            "Epoch: 082, AUC: 0.8465, AP: 0.8499\n",
            "Epoch: 083, AUC: 0.8469, AP: 0.8503\n",
            "Epoch: 084, AUC: 0.8469, AP: 0.8502\n",
            "Epoch: 085, AUC: 0.8466, AP: 0.8499\n",
            "Epoch: 086, AUC: 0.8461, AP: 0.8493\n",
            "Epoch: 087, AUC: 0.8458, AP: 0.8491\n",
            "Epoch: 088, AUC: 0.8457, AP: 0.8489\n",
            "Epoch: 089, AUC: 0.8458, AP: 0.8490\n",
            "Epoch: 090, AUC: 0.8460, AP: 0.8491\n",
            "Epoch: 091, AUC: 0.8459, AP: 0.8490\n",
            "Epoch: 092, AUC: 0.8461, AP: 0.8491\n",
            "Epoch: 093, AUC: 0.8460, AP: 0.8491\n",
            "Epoch: 094, AUC: 0.8457, AP: 0.8487\n",
            "Epoch: 095, AUC: 0.8454, AP: 0.8484\n",
            "Epoch: 096, AUC: 0.8449, AP: 0.8479\n",
            "Epoch: 097, AUC: 0.8451, AP: 0.8480\n",
            "Epoch: 098, AUC: 0.8453, AP: 0.8482\n",
            "Epoch: 099, AUC: 0.8454, AP: 0.8482\n",
            "Epoch: 100, AUC: 0.8454, AP: 0.8481\n"
          ]
        }
      ]
    },
    {
      "cell_type": "code",
      "source": [
        "Z = model.encode(x, train_pos_edge_index)\n",
        "Z"
      ],
      "metadata": {
        "colab": {
          "base_uri": "https://localhost:8080/"
        },
        "id": "IwTp3JV6IIXZ",
        "outputId": "89bbfebf-d026-41b1-842b-9cff6b0e1036"
      },
      "execution_count": 25,
      "outputs": [
        {
          "output_type": "execute_result",
          "data": {
            "text/plain": [
              "tensor([[-0.7016,  0.4660],\n",
              "        [ 0.6916,  1.3677],\n",
              "        [-0.4613, -0.6089],\n",
              "        ...,\n",
              "        [ 0.0550,  1.3295],\n",
              "        [-0.8283,  0.1468],\n",
              "        [-1.0683, -0.2868]], device='cuda:0', grad_fn=<AddBackward0>)"
            ]
          },
          "metadata": {},
          "execution_count": 25
        }
      ]
    },
    {
      "cell_type": "code",
      "source": [
        ""
      ],
      "metadata": {
        "id": "MAcvHwATIPDY"
      },
      "execution_count": null,
      "outputs": []
    }
  ]
}